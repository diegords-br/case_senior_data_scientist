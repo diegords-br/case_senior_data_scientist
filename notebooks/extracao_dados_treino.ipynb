{
 "cells": [
  {
   "cell_type": "markdown",
   "metadata": {},
   "source": [
    "# Importação das tabelas"
   ]
  },
  {
   "cell_type": "code",
   "execution_count": 156,
   "metadata": {},
   "outputs": [],
   "source": [
    "import pymysql\n",
    "from dotenv import load_dotenv\n",
    "import os\n",
    "import pandas as pd\n",
    "import warnings\n",
    "from sklearn.preprocessing import LabelEncoder\n",
    "import pickle\n",
    "\n",
    "warnings.filterwarnings(\"ignore\")"
   ]
  },
  {
   "cell_type": "markdown",
   "metadata": {},
   "source": [
    "Credenciais"
   ]
  },
  {
   "cell_type": "code",
   "execution_count": 101,
   "metadata": {},
   "outputs": [],
   "source": [
    "# Carregando as variáveis de ambiente do arquivo .env\n",
    "load_dotenv()\n",
    "\n",
    "# Obtendo as credenciais do banco de dados\n",
    "DB_HOST = os.getenv(\"DB_HOST\")\n",
    "DB_PORT = int(os.getenv(\"DB_PORT\"))\n",
    "DB_NAME = os.getenv(\"DB_NAME\")\n",
    "DB_USER = os.getenv(\"DB_USER\")\n",
    "DB_PASSWORD = os.getenv(\"DB_PASSWORD\")"
   ]
  },
  {
   "cell_type": "markdown",
   "metadata": {},
   "source": [
    "Funções"
   ]
  },
  {
   "cell_type": "code",
   "execution_count": 102,
   "metadata": {},
   "outputs": [],
   "source": [
    "# Função para carregar dados do MySQL em um DataFrame\n",
    "def carregar_tabela_em_dataframe(tabela):\n",
    "    try:\n",
    "        # Conectar ao banco de dados\n",
    "        conexao = pymysql.connect(\n",
    "            host=DB_HOST,\n",
    "            port=DB_PORT,\n",
    "            user=DB_USER,\n",
    "            password=DB_PASSWORD,\n",
    "            database=DB_NAME,\n",
    "        )\n",
    "        # Query para carregar os dados\n",
    "        query = f\"SELECT * FROM {tabela};\"\n",
    "\n",
    "        # Carregar dados diretamente em um DataFrame\n",
    "        df = pd.read_sql(query, conexao)\n",
    "\n",
    "        # Fechar a conexão\n",
    "        conexao.close()\n",
    "\n",
    "        return df\n",
    "    except Exception as e:\n",
    "        print(\"Erro ao carregar a tabela:\", e)\n",
    "        return None"
   ]
  },
  {
   "cell_type": "markdown",
   "metadata": {},
   "source": [
    "Tabelas"
   ]
  },
  {
   "cell_type": "code",
   "execution_count": 103,
   "metadata": {},
   "outputs": [],
   "source": [
    "tabela_daumau = carregar_tabela_em_dataframe(\"daumau\")\n",
    "tabela_desinstalacoes = carregar_tabela_em_dataframe(\"desinstalacoes\")\n",
    "tabela_installs = carregar_tabela_em_dataframe(\"installs\")\n",
    "tabela_ratings_reviews = carregar_tabela_em_dataframe(\"ratings_reviews\")"
   ]
  },
  {
   "cell_type": "markdown",
   "metadata": {},
   "source": [
    "# Análise das tabelas"
   ]
  },
  {
   "cell_type": "code",
   "execution_count": 104,
   "metadata": {},
   "outputs": [
    {
     "data": {
      "text/html": [
       "<div>\n",
       "<style scoped>\n",
       "    .dataframe tbody tr th:only-of-type {\n",
       "        vertical-align: middle;\n",
       "    }\n",
       "\n",
       "    .dataframe tbody tr th {\n",
       "        vertical-align: top;\n",
       "    }\n",
       "\n",
       "    .dataframe thead th {\n",
       "        text-align: right;\n",
       "    }\n",
       "</style>\n",
       "<table border=\"1\" class=\"dataframe\">\n",
       "  <thead>\n",
       "    <tr style=\"text-align: right;\">\n",
       "      <th></th>\n",
       "      <th>appId</th>\n",
       "      <th>date</th>\n",
       "      <th>dauReal</th>\n",
       "      <th>mauReal</th>\n",
       "    </tr>\n",
       "  </thead>\n",
       "  <tbody>\n",
       "    <tr>\n",
       "      <th>0</th>\n",
       "      <td>com.app.33540</td>\n",
       "      <td>2024-01-01</td>\n",
       "      <td>393961.0</td>\n",
       "      <td>3643110.0</td>\n",
       "    </tr>\n",
       "    <tr>\n",
       "      <th>1</th>\n",
       "      <td>com.app.33540</td>\n",
       "      <td>2024-01-02</td>\n",
       "      <td>800448.0</td>\n",
       "      <td>3643040.0</td>\n",
       "    </tr>\n",
       "    <tr>\n",
       "      <th>2</th>\n",
       "      <td>com.app.31679</td>\n",
       "      <td>2024-01-01</td>\n",
       "      <td>157532.0</td>\n",
       "      <td>1349262.0</td>\n",
       "    </tr>\n",
       "    <tr>\n",
       "      <th>3</th>\n",
       "      <td>com.app.31679</td>\n",
       "      <td>2024-01-02</td>\n",
       "      <td>313847.0</td>\n",
       "      <td>1349317.0</td>\n",
       "    </tr>\n",
       "    <tr>\n",
       "      <th>4</th>\n",
       "      <td>com.app.77385</td>\n",
       "      <td>2024-01-01</td>\n",
       "      <td>239768.0</td>\n",
       "      <td>1934660.0</td>\n",
       "    </tr>\n",
       "  </tbody>\n",
       "</table>\n",
       "</div>"
      ],
      "text/plain": [
       "           appId        date   dauReal    mauReal\n",
       "0  com.app.33540  2024-01-01  393961.0  3643110.0\n",
       "1  com.app.33540  2024-01-02  800448.0  3643040.0\n",
       "2  com.app.31679  2024-01-01  157532.0  1349262.0\n",
       "3  com.app.31679  2024-01-02  313847.0  1349317.0\n",
       "4  com.app.77385  2024-01-01  239768.0  1934660.0"
      ]
     },
     "execution_count": 104,
     "metadata": {},
     "output_type": "execute_result"
    }
   ],
   "source": [
    "tabela_daumau.head()"
   ]
  },
  {
   "cell_type": "code",
   "execution_count": 105,
   "metadata": {},
   "outputs": [
    {
     "data": {
      "text/html": [
       "<div>\n",
       "<style scoped>\n",
       "    .dataframe tbody tr th:only-of-type {\n",
       "        vertical-align: middle;\n",
       "    }\n",
       "\n",
       "    .dataframe tbody tr th {\n",
       "        vertical-align: top;\n",
       "    }\n",
       "\n",
       "    .dataframe thead th {\n",
       "        text-align: right;\n",
       "    }\n",
       "</style>\n",
       "<table border=\"1\" class=\"dataframe\">\n",
       "  <thead>\n",
       "    <tr style=\"text-align: right;\">\n",
       "      <th></th>\n",
       "      <th>appId</th>\n",
       "      <th>date</th>\n",
       "      <th>country</th>\n",
       "      <th>lang</th>\n",
       "      <th>predictionLoss</th>\n",
       "    </tr>\n",
       "  </thead>\n",
       "  <tbody>\n",
       "    <tr>\n",
       "      <th>0</th>\n",
       "      <td>com.app.71740</td>\n",
       "      <td>2024-01-01</td>\n",
       "      <td>br</td>\n",
       "      <td>pt</td>\n",
       "      <td>1463</td>\n",
       "    </tr>\n",
       "    <tr>\n",
       "      <th>1</th>\n",
       "      <td>com.app.33540</td>\n",
       "      <td>2024-01-01</td>\n",
       "      <td>br</td>\n",
       "      <td>pt</td>\n",
       "      <td>8170</td>\n",
       "    </tr>\n",
       "    <tr>\n",
       "      <th>2</th>\n",
       "      <td>com.app.19544</td>\n",
       "      <td>2024-01-01</td>\n",
       "      <td>br</td>\n",
       "      <td>pt</td>\n",
       "      <td>77048</td>\n",
       "    </tr>\n",
       "    <tr>\n",
       "      <th>3</th>\n",
       "      <td>com.app.77385</td>\n",
       "      <td>2024-01-01</td>\n",
       "      <td>br</td>\n",
       "      <td>pt</td>\n",
       "      <td>4497</td>\n",
       "    </tr>\n",
       "    <tr>\n",
       "      <th>4</th>\n",
       "      <td>com.app.31679</td>\n",
       "      <td>2024-01-01</td>\n",
       "      <td>br</td>\n",
       "      <td>pt</td>\n",
       "      <td>4287</td>\n",
       "    </tr>\n",
       "  </tbody>\n",
       "</table>\n",
       "</div>"
      ],
      "text/plain": [
       "           appId       date country lang  predictionLoss\n",
       "0  com.app.71740 2024-01-01      br   pt            1463\n",
       "1  com.app.33540 2024-01-01      br   pt            8170\n",
       "2  com.app.19544 2024-01-01      br   pt           77048\n",
       "3  com.app.77385 2024-01-01      br   pt            4497\n",
       "4  com.app.31679 2024-01-01      br   pt            4287"
      ]
     },
     "execution_count": 105,
     "metadata": {},
     "output_type": "execute_result"
    }
   ],
   "source": [
    "tabela_desinstalacoes.head()"
   ]
  },
  {
   "cell_type": "code",
   "execution_count": 106,
   "metadata": {},
   "outputs": [
    {
     "data": {
      "text/html": [
       "<div>\n",
       "<style scoped>\n",
       "    .dataframe tbody tr th:only-of-type {\n",
       "        vertical-align: middle;\n",
       "    }\n",
       "\n",
       "    .dataframe tbody tr th {\n",
       "        vertical-align: top;\n",
       "    }\n",
       "\n",
       "    .dataframe thead th {\n",
       "        text-align: right;\n",
       "    }\n",
       "</style>\n",
       "<table border=\"1\" class=\"dataframe\">\n",
       "  <thead>\n",
       "    <tr style=\"text-align: right;\">\n",
       "      <th></th>\n",
       "      <th>appid</th>\n",
       "      <th>date</th>\n",
       "      <th>newinstalls</th>\n",
       "    </tr>\n",
       "  </thead>\n",
       "  <tbody>\n",
       "    <tr>\n",
       "      <th>0</th>\n",
       "      <td>com.app.86367</td>\n",
       "      <td>2024-01-01</td>\n",
       "      <td>1968</td>\n",
       "    </tr>\n",
       "    <tr>\n",
       "      <th>1</th>\n",
       "      <td>com.app.18711</td>\n",
       "      <td>2024-01-01</td>\n",
       "      <td>1364</td>\n",
       "    </tr>\n",
       "    <tr>\n",
       "      <th>2</th>\n",
       "      <td>com.app.36257</td>\n",
       "      <td>2024-01-01</td>\n",
       "      <td>7511</td>\n",
       "    </tr>\n",
       "    <tr>\n",
       "      <th>3</th>\n",
       "      <td>com.app.88509</td>\n",
       "      <td>2024-01-01</td>\n",
       "      <td>53137</td>\n",
       "    </tr>\n",
       "    <tr>\n",
       "      <th>4</th>\n",
       "      <td>com.app.93131</td>\n",
       "      <td>2024-01-01</td>\n",
       "      <td>137</td>\n",
       "    </tr>\n",
       "  </tbody>\n",
       "</table>\n",
       "</div>"
      ],
      "text/plain": [
       "           appid       date  newinstalls\n",
       "0  com.app.86367 2024-01-01         1968\n",
       "1  com.app.18711 2024-01-01         1364\n",
       "2  com.app.36257 2024-01-01         7511\n",
       "3  com.app.88509 2024-01-01        53137\n",
       "4  com.app.93131 2024-01-01          137"
      ]
     },
     "execution_count": 106,
     "metadata": {},
     "output_type": "execute_result"
    }
   ],
   "source": [
    "tabela_installs.head()"
   ]
  },
  {
   "cell_type": "code",
   "execution_count": 107,
   "metadata": {},
   "outputs": [
    {
     "data": {
      "text/html": [
       "<div>\n",
       "<style scoped>\n",
       "    .dataframe tbody tr th:only-of-type {\n",
       "        vertical-align: middle;\n",
       "    }\n",
       "\n",
       "    .dataframe tbody tr th {\n",
       "        vertical-align: top;\n",
       "    }\n",
       "\n",
       "    .dataframe thead th {\n",
       "        text-align: right;\n",
       "    }\n",
       "</style>\n",
       "<table border=\"1\" class=\"dataframe\">\n",
       "  <thead>\n",
       "    <tr style=\"text-align: right;\">\n",
       "      <th></th>\n",
       "      <th>date</th>\n",
       "      <th>appid</th>\n",
       "      <th>category</th>\n",
       "      <th>ratings</th>\n",
       "      <th>daily_ratings</th>\n",
       "      <th>reviews</th>\n",
       "      <th>daily_reviews</th>\n",
       "    </tr>\n",
       "  </thead>\n",
       "  <tbody>\n",
       "    <tr>\n",
       "      <th>0</th>\n",
       "      <td>2024-01-01</td>\n",
       "      <td>com.app.40009</td>\n",
       "      <td>OTHERS</td>\n",
       "      <td>63500.0</td>\n",
       "      <td>5.0</td>\n",
       "      <td>25251.0</td>\n",
       "      <td>0.0</td>\n",
       "    </tr>\n",
       "    <tr>\n",
       "      <th>1</th>\n",
       "      <td>2024-01-01</td>\n",
       "      <td>com.app.88516</td>\n",
       "      <td>OTHERS</td>\n",
       "      <td>2440.0</td>\n",
       "      <td>0.0</td>\n",
       "      <td>312.0</td>\n",
       "      <td>0.0</td>\n",
       "    </tr>\n",
       "    <tr>\n",
       "      <th>2</th>\n",
       "      <td>2024-01-01</td>\n",
       "      <td>com.app.64634</td>\n",
       "      <td>TRAVEL_AND_LOCAL</td>\n",
       "      <td>536.0</td>\n",
       "      <td>0.0</td>\n",
       "      <td>331.0</td>\n",
       "      <td>0.0</td>\n",
       "    </tr>\n",
       "    <tr>\n",
       "      <th>3</th>\n",
       "      <td>2024-01-01</td>\n",
       "      <td>com.app.78470</td>\n",
       "      <td>SHOPPING</td>\n",
       "      <td>97924.0</td>\n",
       "      <td>7.0</td>\n",
       "      <td>27241.0</td>\n",
       "      <td>23.0</td>\n",
       "    </tr>\n",
       "    <tr>\n",
       "      <th>4</th>\n",
       "      <td>2024-01-01</td>\n",
       "      <td>com.app.36433</td>\n",
       "      <td>FINANCE</td>\n",
       "      <td>678.0</td>\n",
       "      <td>0.0</td>\n",
       "      <td>414.0</td>\n",
       "      <td>0.0</td>\n",
       "    </tr>\n",
       "  </tbody>\n",
       "</table>\n",
       "</div>"
      ],
      "text/plain": [
       "         date          appid          category  ratings  daily_ratings  \\\n",
       "0  2024-01-01  com.app.40009            OTHERS  63500.0            5.0   \n",
       "1  2024-01-01  com.app.88516            OTHERS   2440.0            0.0   \n",
       "2  2024-01-01  com.app.64634  TRAVEL_AND_LOCAL    536.0            0.0   \n",
       "3  2024-01-01  com.app.78470          SHOPPING  97924.0            7.0   \n",
       "4  2024-01-01  com.app.36433           FINANCE    678.0            0.0   \n",
       "\n",
       "   reviews  daily_reviews  \n",
       "0  25251.0            0.0  \n",
       "1    312.0            0.0  \n",
       "2    331.0            0.0  \n",
       "3  27241.0           23.0  \n",
       "4    414.0            0.0  "
      ]
     },
     "execution_count": 107,
     "metadata": {},
     "output_type": "execute_result"
    }
   ],
   "source": [
    "tabela_ratings_reviews.head()"
   ]
  },
  {
   "cell_type": "markdown",
   "metadata": {},
   "source": [
    "Vamos fazer uma junção das tabelas usando as chaves primárias de data e identificador do aplicativo."
   ]
  },
  {
   "cell_type": "code",
   "execution_count": 108,
   "metadata": {},
   "outputs": [],
   "source": [
    "# Alterando o nome da coluna de Id\n",
    "tabela_installs.rename({\"appid\": \"appId\"}, axis=1, inplace=True)\n",
    "tabela_ratings_reviews.rename({\"appid\": \"appId\"}, axis=1, inplace=True)\n",
    "\n",
    "# Alterando oi dtype das colunas de data\n",
    "tabela_desinstalacoes[\"date\"] = tabela_desinstalacoes[\"date\"].astype(\"object\")\n",
    "tabela_installs[\"date\"] = tabela_installs[\"date\"].astype(\"object\")"
   ]
  },
  {
   "cell_type": "code",
   "execution_count": 109,
   "metadata": {},
   "outputs": [],
   "source": [
    "# Juntando as tabelas\n",
    "df = (\n",
    "    tabela_daumau.merge(tabela_installs, on=[\"date\", \"appId\"], how=\"left\")\n",
    "    .merge(tabela_desinstalacoes, on=[\"date\", \"appId\"], how=\"left\")\n",
    "    .merge(tabela_ratings_reviews, on=[\"date\", \"appId\"], how=\"left\")\n",
    ")"
   ]
  },
  {
   "cell_type": "code",
   "execution_count": 110,
   "metadata": {},
   "outputs": [
    {
     "data": {
      "text/html": [
       "<div>\n",
       "<style scoped>\n",
       "    .dataframe tbody tr th:only-of-type {\n",
       "        vertical-align: middle;\n",
       "    }\n",
       "\n",
       "    .dataframe tbody tr th {\n",
       "        vertical-align: top;\n",
       "    }\n",
       "\n",
       "    .dataframe thead th {\n",
       "        text-align: right;\n",
       "    }\n",
       "</style>\n",
       "<table border=\"1\" class=\"dataframe\">\n",
       "  <thead>\n",
       "    <tr style=\"text-align: right;\">\n",
       "      <th></th>\n",
       "      <th>appId</th>\n",
       "      <th>date</th>\n",
       "      <th>dauReal</th>\n",
       "      <th>mauReal</th>\n",
       "      <th>newinstalls</th>\n",
       "      <th>country</th>\n",
       "      <th>lang</th>\n",
       "      <th>predictionLoss</th>\n",
       "      <th>category</th>\n",
       "      <th>ratings</th>\n",
       "      <th>daily_ratings</th>\n",
       "      <th>reviews</th>\n",
       "      <th>daily_reviews</th>\n",
       "    </tr>\n",
       "  </thead>\n",
       "  <tbody>\n",
       "    <tr>\n",
       "      <th>0</th>\n",
       "      <td>com.app.33540</td>\n",
       "      <td>2024-01-01</td>\n",
       "      <td>393961.0</td>\n",
       "      <td>3643110.0</td>\n",
       "      <td>NaN</td>\n",
       "      <td>NaN</td>\n",
       "      <td>NaN</td>\n",
       "      <td>NaN</td>\n",
       "      <td>FINANCE</td>\n",
       "      <td>223848.0</td>\n",
       "      <td>297.0</td>\n",
       "      <td>82172.0</td>\n",
       "      <td>46.0</td>\n",
       "    </tr>\n",
       "    <tr>\n",
       "      <th>1</th>\n",
       "      <td>com.app.33540</td>\n",
       "      <td>2024-01-02</td>\n",
       "      <td>800448.0</td>\n",
       "      <td>3643040.0</td>\n",
       "      <td>NaN</td>\n",
       "      <td>NaN</td>\n",
       "      <td>NaN</td>\n",
       "      <td>NaN</td>\n",
       "      <td>FINANCE</td>\n",
       "      <td>224145.0</td>\n",
       "      <td>892.0</td>\n",
       "      <td>82218.0</td>\n",
       "      <td>58.0</td>\n",
       "    </tr>\n",
       "    <tr>\n",
       "      <th>2</th>\n",
       "      <td>com.app.31679</td>\n",
       "      <td>2024-01-01</td>\n",
       "      <td>157532.0</td>\n",
       "      <td>1349262.0</td>\n",
       "      <td>NaN</td>\n",
       "      <td>NaN</td>\n",
       "      <td>NaN</td>\n",
       "      <td>NaN</td>\n",
       "      <td>FINANCE</td>\n",
       "      <td>277813.0</td>\n",
       "      <td>132.0</td>\n",
       "      <td>139907.0</td>\n",
       "      <td>19.0</td>\n",
       "    </tr>\n",
       "    <tr>\n",
       "      <th>3</th>\n",
       "      <td>com.app.31679</td>\n",
       "      <td>2024-01-02</td>\n",
       "      <td>313847.0</td>\n",
       "      <td>1349317.0</td>\n",
       "      <td>NaN</td>\n",
       "      <td>NaN</td>\n",
       "      <td>NaN</td>\n",
       "      <td>NaN</td>\n",
       "      <td>FINANCE</td>\n",
       "      <td>277945.0</td>\n",
       "      <td>303.0</td>\n",
       "      <td>139926.0</td>\n",
       "      <td>14.0</td>\n",
       "    </tr>\n",
       "    <tr>\n",
       "      <th>4</th>\n",
       "      <td>com.app.77385</td>\n",
       "      <td>2024-01-01</td>\n",
       "      <td>239768.0</td>\n",
       "      <td>1934660.0</td>\n",
       "      <td>NaN</td>\n",
       "      <td>NaN</td>\n",
       "      <td>NaN</td>\n",
       "      <td>NaN</td>\n",
       "      <td>FINANCE</td>\n",
       "      <td>197329.0</td>\n",
       "      <td>187.0</td>\n",
       "      <td>79637.0</td>\n",
       "      <td>25.0</td>\n",
       "    </tr>\n",
       "  </tbody>\n",
       "</table>\n",
       "</div>"
      ],
      "text/plain": [
       "           appId        date   dauReal    mauReal  newinstalls country lang  \\\n",
       "0  com.app.33540  2024-01-01  393961.0  3643110.0          NaN     NaN  NaN   \n",
       "1  com.app.33540  2024-01-02  800448.0  3643040.0          NaN     NaN  NaN   \n",
       "2  com.app.31679  2024-01-01  157532.0  1349262.0          NaN     NaN  NaN   \n",
       "3  com.app.31679  2024-01-02  313847.0  1349317.0          NaN     NaN  NaN   \n",
       "4  com.app.77385  2024-01-01  239768.0  1934660.0          NaN     NaN  NaN   \n",
       "\n",
       "   predictionLoss category   ratings  daily_ratings   reviews  daily_reviews  \n",
       "0             NaN  FINANCE  223848.0          297.0   82172.0           46.0  \n",
       "1             NaN  FINANCE  224145.0          892.0   82218.0           58.0  \n",
       "2             NaN  FINANCE  277813.0          132.0  139907.0           19.0  \n",
       "3             NaN  FINANCE  277945.0          303.0  139926.0           14.0  \n",
       "4             NaN  FINANCE  197329.0          187.0   79637.0           25.0  "
      ]
     },
     "execution_count": 110,
     "metadata": {},
     "output_type": "execute_result"
    }
   ],
   "source": [
    "df.head()"
   ]
  },
  {
   "cell_type": "markdown",
   "metadata": {},
   "source": [
    "Colunas presentes no dataset:\n",
    "\n",
    "appId: Identificador único do aplicativo.\n",
    "\n",
    "date: Data de registro.\n",
    "\n",
    "dauReal: Usuários ativos diários.\n",
    "\n",
    "mauReal: Usuários ativos mensais.\n",
    "\n",
    "newInstalls: Novas instalações diárias.\n",
    "\n",
    "country: País de origem dos dados.\n",
    "\n",
    "lang: Idioma predominante.\n",
    "\n",
    "predictionLoss: Erro de previsão.\n",
    "\n",
    "category: Categoria do aplicativo.\n",
    "\n",
    "ratings: Avaliação geral do aplicativo.\n",
    "\n",
    "daily_ratings: Avaliações recebidas no dia.\n",
    "\n",
    "reviews: Total de avaliações escritas.\n",
    "\n",
    "daily_reviews: Avaliações escritas recebidas no dia."
   ]
  },
  {
   "cell_type": "markdown",
   "metadata": {},
   "source": [
    "Selecionando apenas as colunas relevantes para a criação do conjunto de dados para o treinamento do modelo. Nessa etapa, incialmente deixaremos algumas variáveis de fora devido a uma primeira análise suas características não serem úteis de imediato para prever o dauReal.\n",
    "\n",
    "**Observação:** Cabe aqui ressaltar que poderíamos realizar algumas análises estatísticas mais aprofundadas visando eliminar mais variáveis. Porém, essa etapa ficará dedicada ao notebook 2 em que faremos uma EDA."
   ]
  },
  {
   "cell_type": "code",
   "execution_count": 111,
   "metadata": {},
   "outputs": [],
   "source": [
    "# Filtrando as variáveis\n",
    "df_model = df[\n",
    "    [\n",
    "        \"appId\",\n",
    "        \"date\",\n",
    "        \"newinstalls\",\n",
    "        \"mauReal\",\n",
    "        \"ratings\",\n",
    "        \"daily_ratings\",\n",
    "        \"reviews\",\n",
    "        \"daily_reviews\",\n",
    "        \"country\",\n",
    "        \"category\",\n",
    "    ]\n",
    "]"
   ]
  },
  {
   "cell_type": "code",
   "execution_count": 112,
   "metadata": {},
   "outputs": [
    {
     "data": {
      "text/html": [
       "<div>\n",
       "<style scoped>\n",
       "    .dataframe tbody tr th:only-of-type {\n",
       "        vertical-align: middle;\n",
       "    }\n",
       "\n",
       "    .dataframe tbody tr th {\n",
       "        vertical-align: top;\n",
       "    }\n",
       "\n",
       "    .dataframe thead th {\n",
       "        text-align: right;\n",
       "    }\n",
       "</style>\n",
       "<table border=\"1\" class=\"dataframe\">\n",
       "  <thead>\n",
       "    <tr style=\"text-align: right;\">\n",
       "      <th></th>\n",
       "      <th>appId</th>\n",
       "      <th>date</th>\n",
       "      <th>newinstalls</th>\n",
       "      <th>mauReal</th>\n",
       "      <th>ratings</th>\n",
       "      <th>daily_ratings</th>\n",
       "      <th>reviews</th>\n",
       "      <th>daily_reviews</th>\n",
       "      <th>country</th>\n",
       "      <th>category</th>\n",
       "    </tr>\n",
       "  </thead>\n",
       "  <tbody>\n",
       "    <tr>\n",
       "      <th>0</th>\n",
       "      <td>com.app.33540</td>\n",
       "      <td>2024-01-01</td>\n",
       "      <td>NaN</td>\n",
       "      <td>3643110.0</td>\n",
       "      <td>223848.0</td>\n",
       "      <td>297.0</td>\n",
       "      <td>82172.0</td>\n",
       "      <td>46.0</td>\n",
       "      <td>NaN</td>\n",
       "      <td>FINANCE</td>\n",
       "    </tr>\n",
       "    <tr>\n",
       "      <th>1</th>\n",
       "      <td>com.app.33540</td>\n",
       "      <td>2024-01-02</td>\n",
       "      <td>NaN</td>\n",
       "      <td>3643040.0</td>\n",
       "      <td>224145.0</td>\n",
       "      <td>892.0</td>\n",
       "      <td>82218.0</td>\n",
       "      <td>58.0</td>\n",
       "      <td>NaN</td>\n",
       "      <td>FINANCE</td>\n",
       "    </tr>\n",
       "    <tr>\n",
       "      <th>2</th>\n",
       "      <td>com.app.31679</td>\n",
       "      <td>2024-01-01</td>\n",
       "      <td>NaN</td>\n",
       "      <td>1349262.0</td>\n",
       "      <td>277813.0</td>\n",
       "      <td>132.0</td>\n",
       "      <td>139907.0</td>\n",
       "      <td>19.0</td>\n",
       "      <td>NaN</td>\n",
       "      <td>FINANCE</td>\n",
       "    </tr>\n",
       "    <tr>\n",
       "      <th>3</th>\n",
       "      <td>com.app.31679</td>\n",
       "      <td>2024-01-02</td>\n",
       "      <td>NaN</td>\n",
       "      <td>1349317.0</td>\n",
       "      <td>277945.0</td>\n",
       "      <td>303.0</td>\n",
       "      <td>139926.0</td>\n",
       "      <td>14.0</td>\n",
       "      <td>NaN</td>\n",
       "      <td>FINANCE</td>\n",
       "    </tr>\n",
       "    <tr>\n",
       "      <th>4</th>\n",
       "      <td>com.app.77385</td>\n",
       "      <td>2024-01-01</td>\n",
       "      <td>NaN</td>\n",
       "      <td>1934660.0</td>\n",
       "      <td>197329.0</td>\n",
       "      <td>187.0</td>\n",
       "      <td>79637.0</td>\n",
       "      <td>25.0</td>\n",
       "      <td>NaN</td>\n",
       "      <td>FINANCE</td>\n",
       "    </tr>\n",
       "  </tbody>\n",
       "</table>\n",
       "</div>"
      ],
      "text/plain": [
       "           appId        date  newinstalls    mauReal   ratings  daily_ratings  \\\n",
       "0  com.app.33540  2024-01-01          NaN  3643110.0  223848.0          297.0   \n",
       "1  com.app.33540  2024-01-02          NaN  3643040.0  224145.0          892.0   \n",
       "2  com.app.31679  2024-01-01          NaN  1349262.0  277813.0          132.0   \n",
       "3  com.app.31679  2024-01-02          NaN  1349317.0  277945.0          303.0   \n",
       "4  com.app.77385  2024-01-01          NaN  1934660.0  197329.0          187.0   \n",
       "\n",
       "    reviews  daily_reviews country category  \n",
       "0   82172.0           46.0     NaN  FINANCE  \n",
       "1   82218.0           58.0     NaN  FINANCE  \n",
       "2  139907.0           19.0     NaN  FINANCE  \n",
       "3  139926.0           14.0     NaN  FINANCE  \n",
       "4   79637.0           25.0     NaN  FINANCE  "
      ]
     },
     "execution_count": 112,
     "metadata": {},
     "output_type": "execute_result"
    }
   ],
   "source": [
    "df_model.head()"
   ]
  },
  {
   "cell_type": "markdown",
   "metadata": {},
   "source": [
    "# Tratamento dos dados"
   ]
  },
  {
   "cell_type": "code",
   "execution_count": 113,
   "metadata": {},
   "outputs": [
    {
     "name": "stdout",
     "output_type": "stream",
     "text": [
      "<class 'pandas.core.frame.DataFrame'>\n",
      "RangeIndex: 41299 entries, 0 to 41298\n",
      "Data columns (total 10 columns):\n",
      " #   Column         Non-Null Count  Dtype  \n",
      "---  ------         --------------  -----  \n",
      " 0   appId          41271 non-null  object \n",
      " 1   date           41299 non-null  object \n",
      " 2   newinstalls    0 non-null      float64\n",
      " 3   mauReal        41279 non-null  float64\n",
      " 4   ratings        38966 non-null  float64\n",
      " 5   daily_ratings  38966 non-null  float64\n",
      " 6   reviews        38966 non-null  float64\n",
      " 7   daily_reviews  38966 non-null  float64\n",
      " 8   country        0 non-null      object \n",
      " 9   category       38966 non-null  object \n",
      "dtypes: float64(6), object(4)\n",
      "memory usage: 3.2+ MB\n"
     ]
    }
   ],
   "source": [
    "df_model.info()"
   ]
  },
  {
   "cell_type": "markdown",
   "metadata": {},
   "source": [
    "Aqui vemos que as colunas newinstalls e country não possuem dados preenchidos. Ou seja, teresmo que removê-las do conjunto de dados."
   ]
  },
  {
   "cell_type": "code",
   "execution_count": 114,
   "metadata": {},
   "outputs": [],
   "source": [
    "# Removendo as tabelas newinstalls e country\n",
    "df_model = df_model.drop([\"newinstalls\", 'country'], axis = 1)"
   ]
  },
  {
   "cell_type": "code",
   "execution_count": 115,
   "metadata": {},
   "outputs": [],
   "source": [
    "# Alterando o datatype da coluna de data\n",
    "df_model['date'] = pd.to_datetime(df_model['date'])\n",
    "\n",
    "# Criando colunas de ano, mes e dia\n",
    "df_model['ano'] = df_model['date'].dt.year\n",
    "df_model['mes'] = df_model['date'].dt.month\n",
    "df_model['dia'] = df_model['date'].dt.day"
   ]
  },
  {
   "cell_type": "code",
   "execution_count": 116,
   "metadata": {},
   "outputs": [
    {
     "data": {
      "text/plain": [
       "ano\n",
       "2024    41198\n",
       "2220       42\n",
       "2044       34\n",
       "1912       14\n",
       "1980       11\n",
       "Name: count, dtype: int64"
      ]
     },
     "execution_count": 116,
     "metadata": {},
     "output_type": "execute_result"
    }
   ],
   "source": [
    "df_model['ano'].value_counts()"
   ]
  },
  {
   "cell_type": "code",
   "execution_count": 117,
   "metadata": {},
   "outputs": [],
   "source": [
    "# Observando os dados acima filtremos somente as linhas para o ano de 2024\n",
    "df_model = df_model[df_model['ano'] == 2024]"
   ]
  },
  {
   "cell_type": "code",
   "execution_count": 118,
   "metadata": {},
   "outputs": [],
   "source": [
    "# vamos remover agora a coluna de data e ano que não serão úteis\n",
    "df_model.drop(['date', 'ano'], axis = 1, inplace = True)"
   ]
  },
  {
   "cell_type": "code",
   "execution_count": null,
   "metadata": {},
   "outputs": [],
   "source": [
    "# Vamos criar uma variável categórica usando o appId\n",
    "le = LabelEncoder()\n",
    "df_model['appId_encoded'] = le.fit_transform(df_model['appId'])"
   ]
  },
  {
   "cell_type": "code",
   "execution_count": 125,
   "metadata": {},
   "outputs": [],
   "source": [
    "# Removendo a coluna de appId\n",
    "df_model.drop(['appId'], axis = 1, inplace = True)"
   ]
  },
  {
   "cell_type": "code",
   "execution_count": 129,
   "metadata": {},
   "outputs": [],
   "source": [
    "# Como as colunas restantes (exceto category) são numéricas e apresentam poucos valores nulos, vamos preencher com a média de cada coluna respectivamente\n",
    "colunas_media = [\"mauReal\", \"ratings\", \"daily_ratings\", \"reviews\", \"daily_reviews\"]\n",
    "\n",
    "for coluna in colunas_media:\n",
    "    df_model[coluna] = df_model[coluna].fillna(df_model[coluna].mean())"
   ]
  },
  {
   "cell_type": "markdown",
   "metadata": {},
   "source": [
    "Observa-se que apenas 5% dos dados da coluna category são nulos. Ou seja, remover tais linhas não geraria uma perda sinigficativa nos dados. Portanto, vamos remover as linhas que não possuem essa característica.\n",
    "\n",
    "Vale ressaltar que existem inúmeras outras técnias a serem utilizadas, como preenchimento usando a moda, substituição por uma categoria específica, usar modelos de imputação como KNN ou modelos de regressão para tentar estimar a categoria faltante, etc. Mas, devido ao tempo e as características, vamos remover as linhas faltantes.\n",
    "\n",
    "Temos embasamento para remoção pois faltam apenas 5% dos dados;\n",
    "\n",
    "Em um projeto real, utilizaríamos as técnicas mencionadas visando possíveis melhorias na base."
   ]
  },
  {
   "cell_type": "code",
   "execution_count": 136,
   "metadata": {},
   "outputs": [],
   "source": [
    "# Removendo as linhas faltantes em category\n",
    "df_model = df_model[df_model['category'].notna()]"
   ]
  },
  {
   "cell_type": "code",
   "execution_count": 138,
   "metadata": {},
   "outputs": [],
   "source": [
    "# Vamos criar uma variável categórica usando o category\n",
    "le2 = LabelEncoder()\n",
    "df_model['category_encoded'] = le2.fit_transform(df_model['category'])"
   ]
  },
  {
   "cell_type": "code",
   "execution_count": 140,
   "metadata": {},
   "outputs": [],
   "source": [
    "# Removendo a coluna category\n",
    "df_model.drop(['category'], axis = 1, inplace = True)"
   ]
  },
  {
   "cell_type": "code",
   "execution_count": 142,
   "metadata": {},
   "outputs": [
    {
     "data": {
      "text/html": [
       "<div>\n",
       "<style scoped>\n",
       "    .dataframe tbody tr th:only-of-type {\n",
       "        vertical-align: middle;\n",
       "    }\n",
       "\n",
       "    .dataframe tbody tr th {\n",
       "        vertical-align: top;\n",
       "    }\n",
       "\n",
       "    .dataframe thead th {\n",
       "        text-align: right;\n",
       "    }\n",
       "</style>\n",
       "<table border=\"1\" class=\"dataframe\">\n",
       "  <thead>\n",
       "    <tr style=\"text-align: right;\">\n",
       "      <th></th>\n",
       "      <th>mauReal</th>\n",
       "      <th>ratings</th>\n",
       "      <th>daily_ratings</th>\n",
       "      <th>reviews</th>\n",
       "      <th>daily_reviews</th>\n",
       "      <th>mes</th>\n",
       "      <th>dia</th>\n",
       "      <th>appId_encoded</th>\n",
       "      <th>category_encoded</th>\n",
       "    </tr>\n",
       "  </thead>\n",
       "  <tbody>\n",
       "    <tr>\n",
       "      <th>0</th>\n",
       "      <td>3643110.0</td>\n",
       "      <td>223848.0</td>\n",
       "      <td>297.0</td>\n",
       "      <td>82172.0</td>\n",
       "      <td>46.0</td>\n",
       "      <td>1</td>\n",
       "      <td>1</td>\n",
       "      <td>46</td>\n",
       "      <td>1</td>\n",
       "    </tr>\n",
       "    <tr>\n",
       "      <th>1</th>\n",
       "      <td>3643040.0</td>\n",
       "      <td>224145.0</td>\n",
       "      <td>892.0</td>\n",
       "      <td>82218.0</td>\n",
       "      <td>58.0</td>\n",
       "      <td>1</td>\n",
       "      <td>2</td>\n",
       "      <td>46</td>\n",
       "      <td>1</td>\n",
       "    </tr>\n",
       "    <tr>\n",
       "      <th>2</th>\n",
       "      <td>1349262.0</td>\n",
       "      <td>277813.0</td>\n",
       "      <td>132.0</td>\n",
       "      <td>139907.0</td>\n",
       "      <td>19.0</td>\n",
       "      <td>1</td>\n",
       "      <td>1</td>\n",
       "      <td>44</td>\n",
       "      <td>1</td>\n",
       "    </tr>\n",
       "    <tr>\n",
       "      <th>3</th>\n",
       "      <td>1349317.0</td>\n",
       "      <td>277945.0</td>\n",
       "      <td>303.0</td>\n",
       "      <td>139926.0</td>\n",
       "      <td>14.0</td>\n",
       "      <td>1</td>\n",
       "      <td>2</td>\n",
       "      <td>44</td>\n",
       "      <td>1</td>\n",
       "    </tr>\n",
       "    <tr>\n",
       "      <th>4</th>\n",
       "      <td>1934660.0</td>\n",
       "      <td>197329.0</td>\n",
       "      <td>187.0</td>\n",
       "      <td>79637.0</td>\n",
       "      <td>25.0</td>\n",
       "      <td>1</td>\n",
       "      <td>1</td>\n",
       "      <td>131</td>\n",
       "      <td>1</td>\n",
       "    </tr>\n",
       "  </tbody>\n",
       "</table>\n",
       "</div>"
      ],
      "text/plain": [
       "     mauReal   ratings  daily_ratings   reviews  daily_reviews  mes  dia  \\\n",
       "0  3643110.0  223848.0          297.0   82172.0           46.0    1    1   \n",
       "1  3643040.0  224145.0          892.0   82218.0           58.0    1    2   \n",
       "2  1349262.0  277813.0          132.0  139907.0           19.0    1    1   \n",
       "3  1349317.0  277945.0          303.0  139926.0           14.0    1    2   \n",
       "4  1934660.0  197329.0          187.0   79637.0           25.0    1    1   \n",
       "\n",
       "   appId_encoded  category_encoded  \n",
       "0             46                 1  \n",
       "1             46                 1  \n",
       "2             44                 1  \n",
       "3             44                 1  \n",
       "4            131                 1  "
      ]
     },
     "execution_count": 142,
     "metadata": {},
     "output_type": "execute_result"
    }
   ],
   "source": [
    "df_model.head()"
   ]
  },
  {
   "cell_type": "markdown",
   "metadata": {},
   "source": [
    "# Salvando a base"
   ]
  },
  {
   "cell_type": "code",
   "execution_count": 154,
   "metadata": {},
   "outputs": [],
   "source": [
    "load_dotenv()\n",
    "\n",
    "diretorio_projeto = str(os.getenv(\"DIRETORIO_PROJETO\"))\n",
    "\n",
    "df_model.to_csv(diretorio_projeto + \"/data/data.csv\", index = False)"
   ]
  },
  {
   "cell_type": "code",
   "execution_count": 157,
   "metadata": {},
   "outputs": [],
   "source": [
    "# Salvando também os artefatos de encodding\n",
    "encodings = {\n",
    "    \"appId\": le,\n",
    "    \"category\": le2\n",
    "}\n",
    "\n",
    "with open(diretorio_projeto + '/data/encodings.pkl', 'wb') as f:\n",
    "    pickle.dump(encodings, f)"
   ]
  }
 ],
 "metadata": {
  "kernelspec": {
   "display_name": "env",
   "language": "python",
   "name": "python3"
  },
  "language_info": {
   "codemirror_mode": {
    "name": "ipython",
    "version": 3
   },
   "file_extension": ".py",
   "mimetype": "text/x-python",
   "name": "python",
   "nbconvert_exporter": "python",
   "pygments_lexer": "ipython3",
   "version": "3.12.3"
  }
 },
 "nbformat": 4,
 "nbformat_minor": 2
}
